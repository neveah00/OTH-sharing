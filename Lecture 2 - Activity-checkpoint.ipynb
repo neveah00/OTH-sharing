{
 "cells": [
  {
   "cell_type": "markdown",
   "metadata": {},
   "source": [
    "## Lecture 2 - Programming activity\n",
    "\n",
    "### Activity 1 Complete the following two tasks.\n",
    "\n",
    "1. Write a function for adding  elements in a list called numbers and print the result.\n",
    "\n",
    "numbers = [45, 76, -23, 90, 15]\n",
    "\n",
    "2. Write a function that takes a list of integers and returns the number of times the most-frequently occuring element appears in the list."
   ]
  },
  {
   "cell_type": "code",
   "execution_count": null,
   "metadata": {},
   "outputs": [],
   "source": [
    "#start code\n",
    "\n",
    "\n",
    "#end code"
   ]
  },
  {
   "cell_type": "markdown",
   "metadata": {},
   "source": [
    "### Activity 2\n",
    "\n",
    "Rewrite the following codes using list comprehension:\n",
    "\n",
    "1.  compute first 10 power of 2\n",
    "    \n",
    "    i=0\n",
    "    \n",
    "    powers=[]\n",
    "    \n",
    "    while i<10:\n",
    "    \n",
    "    p=2**i\n",
    "    \n",
    "    powers.append(p)\n",
    "    \n",
    "    i=i+1\n",
    "    \n",
    "    \n",
    "2. Generate all (x,y,z) coordinates from thee lists\n",
    "   \n",
    "   x_points=[1,2,-1]\n",
    "   \n",
    "   y_points=[8,4,3,0]\n",
    "   \n",
    "   z_points=[0,-1]\n",
    "   \n",
    "   points=[]\n",
    "   \n",
    "   for x in x_points:\n",
    "   \n",
    "       for y in y_points:\n",
    "       \n",
    "           for z in z_points:\n",
    "           \n",
    "               points.append((x,y,z))\n",
    "   "
   ]
  },
  {
   "cell_type": "code",
   "execution_count": null,
   "metadata": {},
   "outputs": [],
   "source": [
    "#start code\n",
    "\n",
    "\n",
    "\n",
    "#end code"
   ]
  },
  {
   "cell_type": "markdown",
   "metadata": {},
   "source": [
    "### Activity 3\n",
    "\n",
    "\n",
    "Create histogram of words using the following list: \n",
    "\n",
    "words = [‘the’,’cat','sat','on','the','mat'] \n",
    "\n",
    "Which produces the following result:\n",
    "\n",
    "counts = {‘the':2,'cat':1,'sat':1,'on':1,'mat':1}"
   ]
  },
  {
   "cell_type": "code",
   "execution_count": null,
   "metadata": {},
   "outputs": [],
   "source": [
    "#start code\n",
    "\n",
    "\n",
    "\n",
    "#end code"
   ]
  },
  {
   "cell_type": "markdown",
   "metadata": {},
   "source": [
    "### Activity 4 \n",
    "\n",
    "1. Create a text file sample.txt.\n",
    "2. write a program to create a dictionary by reading the contents of sample.txt were key is the formula of compound and value is the name of the compound.\n",
    "\n",
    "sample.txt\n",
    "\n",
    "salt:NaCL\n",
    "\n",
    "sugar: C6H1206\n",
    "\n",
    "ethanol: CH3CH2OH\n",
    "\n",
    "ammonia: NH3"
   ]
  },
  {
   "cell_type": "code",
   "execution_count": null,
   "metadata": {},
   "outputs": [],
   "source": [
    "#start code\n",
    "\n",
    "\n",
    "\n",
    "#end Code"
   ]
  },
  {
   "cell_type": "code",
   "execution_count": null,
   "metadata": {},
   "outputs": [],
   "source": []
  }
 ],
 "metadata": {
  "kernelspec": {
   "display_name": "Python 3",
   "language": "python",
   "name": "python3"
  },
  "language_info": {
   "codemirror_mode": {
    "name": "ipython",
    "version": 3
   },
   "file_extension": ".py",
   "mimetype": "text/x-python",
   "name": "python",
   "nbconvert_exporter": "python",
   "pygments_lexer": "ipython3",
   "version": "3.8.5"
  }
 },
 "nbformat": 4,
 "nbformat_minor": 4
}
