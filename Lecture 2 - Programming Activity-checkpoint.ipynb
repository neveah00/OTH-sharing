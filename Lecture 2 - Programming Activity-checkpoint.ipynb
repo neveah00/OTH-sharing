{
 "cells": [
  {
   "cell_type": "markdown",
   "metadata": {},
   "source": [
    "## Lecture 2 - Programming activity\n",
    "\n",
    "### Activity 1\n",
    "\n",
    "Write a function for adding  elements in a list called numbers and print the result."
   ]
  },
  {
   "cell_type": "code",
   "execution_count": null,
   "metadata": {},
   "outputs": [],
   "source": [
    "#start code\n",
    "print("test")",
    "\n",
    "#end code"
   ]
  },
  {
   "cell_type": "markdown",
   "metadata": {},
   "source": [
    "### Activity 2\n",
    "\n",
    "\n",
    "Create histogram of words using the following list: \n",
    "\n",
    "words = [‘the’,’cat','sat','on','the','mat'] \n",
    "\n",
    "Which produces the following result:\n",
    "\n",
    "counts = {‘the':2,'cat':1,'sat':1,'on':1,'mat':1}"
   ]
  },
  {
   "cell_type": "code",
   "execution_count": null,
   "metadata": {},
   "outputs": [],
   "source": [
    "#start code\n",
    "\n",
    "\n",
    "#end code"
   ]
  },
  {
   "cell_type": "markdown",
   "metadata": {},
   "source": [
    " ### Activity 3\n",
    "    \n",
    "Write a program that takes any string as input from the user and then reverse the string."
   ]
  },
  {
   "cell_type": "code",
   "execution_count": null,
   "metadata": {},
   "outputs": [],
   "source": []
  }
 ],
 "metadata": {
  "kernelspec": {
   "display_name": "Python 3",
   "language": "python",
   "name": "python3"
  },
  "language_info": {
   "codemirror_mode": {
    "name": "ipython",
    "version": 3
   },
   "file_extension": ".py",
   "mimetype": "text/x-python",
   "name": "python",
   "nbconvert_exporter": "python",
   "pygments_lexer": "ipython3",
   "version": "3.6.9"
  }
 },
 "nbformat": 4,
 "nbformat_minor": 4
}
